{
 "cells": [
  {
   "cell_type": "markdown",
   "metadata": {},
   "source": [
    "# KBO data EDA"
   ]
  },
  {
   "cell_type": "code",
   "execution_count": 1,
   "metadata": {
    "_cell_guid": "b1076dfc-b9ad-4769-8c92-a6c4dae69d19",
    "_uuid": "8f2839f25d086af736a60e9eeb907d3b93b6e0e5",
    "execution": {
     "iopub.execute_input": "2021-11-15T20:05:36.067787Z",
     "iopub.status.busy": "2021-11-15T20:05:36.067143Z",
     "iopub.status.idle": "2021-11-15T20:05:36.082742Z",
     "shell.execute_reply": "2021-11-15T20:05:36.081641Z",
     "shell.execute_reply.started": "2021-11-15T20:05:36.067749Z"
    }
   },
   "outputs": [],
   "source": [
    "# This Python 3 environment comes with many helpful analytics libraries installed\n",
    "# It is defined by the kaggle/python Docker image: https://github.com/kaggle/docker-python\n",
    "# For example, here's several helpful packages to load\n",
    "\n",
    "import numpy as np # linear algebra\n",
    "import pandas as pd # data processing, CSV file I/O (e.g. pd.read_csv)\n",
    "import matplotlib.pyplot as plt\n",
    "%matplotlib inline\n",
    "import seaborn as sns"
   ]
  },
  {
   "cell_type": "code",
   "execution_count": 2,
   "metadata": {
    "execution": {
     "iopub.execute_input": "2021-11-15T20:05:36.086445Z",
     "iopub.status.busy": "2021-11-15T20:05:36.085919Z",
     "iopub.status.idle": "2021-11-15T20:05:36.161405Z",
     "shell.execute_reply": "2021-11-15T20:05:36.160389Z",
     "shell.execute_reply.started": "2021-11-15T20:05:36.086392Z"
    },
    "scrolled": true
   },
   "outputs": [
    {
     "data": {
      "text/html": [
       "<div>\n",
       "<style scoped>\n",
       "    .dataframe tbody tr th:only-of-type {\n",
       "        vertical-align: middle;\n",
       "    }\n",
       "\n",
       "    .dataframe tbody tr th {\n",
       "        vertical-align: top;\n",
       "    }\n",
       "\n",
       "    .dataframe thead th {\n",
       "        text-align: right;\n",
       "    }\n",
       "</style>\n",
       "<table border=\"1\" class=\"dataframe\">\n",
       "  <thead>\n",
       "    <tr style=\"text-align: right;\">\n",
       "      <th></th>\n",
       "      <th>batter_name</th>\n",
       "      <th>age</th>\n",
       "      <th>G</th>\n",
       "      <th>PA</th>\n",
       "      <th>AB</th>\n",
       "      <th>R</th>\n",
       "      <th>H</th>\n",
       "      <th>2B</th>\n",
       "      <th>3B</th>\n",
       "      <th>HR</th>\n",
       "      <th>...</th>\n",
       "      <th>tp</th>\n",
       "      <th>1B</th>\n",
       "      <th>FBP</th>\n",
       "      <th>avg</th>\n",
       "      <th>OBP</th>\n",
       "      <th>SLG</th>\n",
       "      <th>OPS</th>\n",
       "      <th>p_year</th>\n",
       "      <th>YAB</th>\n",
       "      <th>YOPS</th>\n",
       "    </tr>\n",
       "  </thead>\n",
       "  <tbody>\n",
       "    <tr>\n",
       "      <th>0</th>\n",
       "      <td>백용환</td>\n",
       "      <td>24.0</td>\n",
       "      <td>26.0</td>\n",
       "      <td>58.0</td>\n",
       "      <td>52.0</td>\n",
       "      <td>4.0</td>\n",
       "      <td>9.0</td>\n",
       "      <td>4.0</td>\n",
       "      <td>0.0</td>\n",
       "      <td>0.0</td>\n",
       "      <td>...</td>\n",
       "      <td>포수</td>\n",
       "      <td>5.0</td>\n",
       "      <td>6.0</td>\n",
       "      <td>0.173</td>\n",
       "      <td>0.259</td>\n",
       "      <td>0.250</td>\n",
       "      <td>0.509</td>\n",
       "      <td>2014</td>\n",
       "      <td>79.0</td>\n",
       "      <td>0.580</td>\n",
       "    </tr>\n",
       "    <tr>\n",
       "      <th>1</th>\n",
       "      <td>백용환</td>\n",
       "      <td>25.0</td>\n",
       "      <td>47.0</td>\n",
       "      <td>86.0</td>\n",
       "      <td>79.0</td>\n",
       "      <td>8.0</td>\n",
       "      <td>14.0</td>\n",
       "      <td>2.0</td>\n",
       "      <td>0.0</td>\n",
       "      <td>4.0</td>\n",
       "      <td>...</td>\n",
       "      <td>포수</td>\n",
       "      <td>8.0</td>\n",
       "      <td>5.0</td>\n",
       "      <td>0.177</td>\n",
       "      <td>0.226</td>\n",
       "      <td>0.354</td>\n",
       "      <td>0.580</td>\n",
       "      <td>2015</td>\n",
       "      <td>154.0</td>\n",
       "      <td>0.784</td>\n",
       "    </tr>\n",
       "    <tr>\n",
       "      <th>2</th>\n",
       "      <td>백용환</td>\n",
       "      <td>26.0</td>\n",
       "      <td>65.0</td>\n",
       "      <td>177.0</td>\n",
       "      <td>154.0</td>\n",
       "      <td>22.0</td>\n",
       "      <td>36.0</td>\n",
       "      <td>6.0</td>\n",
       "      <td>0.0</td>\n",
       "      <td>10.0</td>\n",
       "      <td>...</td>\n",
       "      <td>포수</td>\n",
       "      <td>20.0</td>\n",
       "      <td>20.0</td>\n",
       "      <td>0.234</td>\n",
       "      <td>0.316</td>\n",
       "      <td>0.468</td>\n",
       "      <td>0.784</td>\n",
       "      <td>2016</td>\n",
       "      <td>174.0</td>\n",
       "      <td>0.581</td>\n",
       "    </tr>\n",
       "    <tr>\n",
       "      <th>3</th>\n",
       "      <td>백용환</td>\n",
       "      <td>27.0</td>\n",
       "      <td>80.0</td>\n",
       "      <td>199.0</td>\n",
       "      <td>174.0</td>\n",
       "      <td>12.0</td>\n",
       "      <td>34.0</td>\n",
       "      <td>7.0</td>\n",
       "      <td>0.0</td>\n",
       "      <td>4.0</td>\n",
       "      <td>...</td>\n",
       "      <td>포수</td>\n",
       "      <td>23.0</td>\n",
       "      <td>20.0</td>\n",
       "      <td>0.195</td>\n",
       "      <td>0.276</td>\n",
       "      <td>0.305</td>\n",
       "      <td>0.581</td>\n",
       "      <td>2017</td>\n",
       "      <td>17.0</td>\n",
       "      <td>0.476</td>\n",
       "    </tr>\n",
       "    <tr>\n",
       "      <th>4</th>\n",
       "      <td>백용환</td>\n",
       "      <td>28.0</td>\n",
       "      <td>15.0</td>\n",
       "      <td>20.0</td>\n",
       "      <td>17.0</td>\n",
       "      <td>2.0</td>\n",
       "      <td>3.0</td>\n",
       "      <td>0.0</td>\n",
       "      <td>0.0</td>\n",
       "      <td>0.0</td>\n",
       "      <td>...</td>\n",
       "      <td>포수</td>\n",
       "      <td>3.0</td>\n",
       "      <td>3.0</td>\n",
       "      <td>0.176</td>\n",
       "      <td>0.300</td>\n",
       "      <td>0.176</td>\n",
       "      <td>0.476</td>\n",
       "      <td>2018</td>\n",
       "      <td>47.0</td>\n",
       "      <td>0.691</td>\n",
       "    </tr>\n",
       "    <tr>\n",
       "      <th>...</th>\n",
       "      <td>...</td>\n",
       "      <td>...</td>\n",
       "      <td>...</td>\n",
       "      <td>...</td>\n",
       "      <td>...</td>\n",
       "      <td>...</td>\n",
       "      <td>...</td>\n",
       "      <td>...</td>\n",
       "      <td>...</td>\n",
       "      <td>...</td>\n",
       "      <td>...</td>\n",
       "      <td>...</td>\n",
       "      <td>...</td>\n",
       "      <td>...</td>\n",
       "      <td>...</td>\n",
       "      <td>...</td>\n",
       "      <td>...</td>\n",
       "      <td>...</td>\n",
       "      <td>...</td>\n",
       "      <td>...</td>\n",
       "      <td>...</td>\n",
       "    </tr>\n",
       "    <tr>\n",
       "      <th>1908</th>\n",
       "      <td>이원석</td>\n",
       "      <td>32.0</td>\n",
       "      <td>128.0</td>\n",
       "      <td>543.0</td>\n",
       "      <td>479.0</td>\n",
       "      <td>74.0</td>\n",
       "      <td>144.0</td>\n",
       "      <td>30.0</td>\n",
       "      <td>1.0</td>\n",
       "      <td>20.0</td>\n",
       "      <td>...</td>\n",
       "      <td>3루수</td>\n",
       "      <td>93.0</td>\n",
       "      <td>59.0</td>\n",
       "      <td>0.301</td>\n",
       "      <td>0.374</td>\n",
       "      <td>0.493</td>\n",
       "      <td>0.867</td>\n",
       "      <td>2019</td>\n",
       "      <td>395.0</td>\n",
       "      <td>0.768</td>\n",
       "    </tr>\n",
       "    <tr>\n",
       "      <th>1909</th>\n",
       "      <td>조용호</td>\n",
       "      <td>28.0</td>\n",
       "      <td>68.0</td>\n",
       "      <td>225.0</td>\n",
       "      <td>191.0</td>\n",
       "      <td>34.0</td>\n",
       "      <td>52.0</td>\n",
       "      <td>7.0</td>\n",
       "      <td>1.0</td>\n",
       "      <td>0.0</td>\n",
       "      <td>...</td>\n",
       "      <td>우익수</td>\n",
       "      <td>44.0</td>\n",
       "      <td>28.0</td>\n",
       "      <td>0.272</td>\n",
       "      <td>0.365</td>\n",
       "      <td>0.319</td>\n",
       "      <td>0.684</td>\n",
       "      <td>2018</td>\n",
       "      <td>13.0</td>\n",
       "      <td>0.154</td>\n",
       "    </tr>\n",
       "    <tr>\n",
       "      <th>1910</th>\n",
       "      <td>조용호</td>\n",
       "      <td>29.0</td>\n",
       "      <td>16.0</td>\n",
       "      <td>14.0</td>\n",
       "      <td>13.0</td>\n",
       "      <td>4.0</td>\n",
       "      <td>1.0</td>\n",
       "      <td>0.0</td>\n",
       "      <td>0.0</td>\n",
       "      <td>0.0</td>\n",
       "      <td>...</td>\n",
       "      <td>우익수</td>\n",
       "      <td>1.0</td>\n",
       "      <td>0.0</td>\n",
       "      <td>0.077</td>\n",
       "      <td>0.077</td>\n",
       "      <td>0.077</td>\n",
       "      <td>0.154</td>\n",
       "      <td>2019</td>\n",
       "      <td>188.0</td>\n",
       "      <td>0.720</td>\n",
       "    </tr>\n",
       "    <tr>\n",
       "      <th>1911</th>\n",
       "      <td>히메네스</td>\n",
       "      <td>27.0</td>\n",
       "      <td>70.0</td>\n",
       "      <td>299.0</td>\n",
       "      <td>279.0</td>\n",
       "      <td>37.0</td>\n",
       "      <td>87.0</td>\n",
       "      <td>17.0</td>\n",
       "      <td>2.0</td>\n",
       "      <td>11.0</td>\n",
       "      <td>...</td>\n",
       "      <td>3루수</td>\n",
       "      <td>57.0</td>\n",
       "      <td>16.0</td>\n",
       "      <td>0.312</td>\n",
       "      <td>0.344</td>\n",
       "      <td>0.505</td>\n",
       "      <td>0.849</td>\n",
       "      <td>2016</td>\n",
       "      <td>523.0</td>\n",
       "      <td>0.889</td>\n",
       "    </tr>\n",
       "    <tr>\n",
       "      <th>1912</th>\n",
       "      <td>히메네스</td>\n",
       "      <td>28.0</td>\n",
       "      <td>135.0</td>\n",
       "      <td>579.0</td>\n",
       "      <td>523.0</td>\n",
       "      <td>101.0</td>\n",
       "      <td>161.0</td>\n",
       "      <td>36.0</td>\n",
       "      <td>0.0</td>\n",
       "      <td>26.0</td>\n",
       "      <td>...</td>\n",
       "      <td>3루수</td>\n",
       "      <td>99.0</td>\n",
       "      <td>49.0</td>\n",
       "      <td>0.308</td>\n",
       "      <td>0.363</td>\n",
       "      <td>0.526</td>\n",
       "      <td>0.889</td>\n",
       "      <td>2017</td>\n",
       "      <td>181.0</td>\n",
       "      <td>0.769</td>\n",
       "    </tr>\n",
       "  </tbody>\n",
       "</table>\n",
       "<p>1913 rows × 37 columns</p>\n",
       "</div>"
      ],
      "text/plain": [
       "     batter_name   age      G     PA     AB      R      H    2B   3B    HR  \\\n",
       "0            백용환  24.0   26.0   58.0   52.0    4.0    9.0   4.0  0.0   0.0   \n",
       "1            백용환  25.0   47.0   86.0   79.0    8.0   14.0   2.0  0.0   4.0   \n",
       "2            백용환  26.0   65.0  177.0  154.0   22.0   36.0   6.0  0.0  10.0   \n",
       "3            백용환  27.0   80.0  199.0  174.0   12.0   34.0   7.0  0.0   4.0   \n",
       "4            백용환  28.0   15.0   20.0   17.0    2.0    3.0   0.0  0.0   0.0   \n",
       "...          ...   ...    ...    ...    ...    ...    ...   ...  ...   ...   \n",
       "1908         이원석  32.0  128.0  543.0  479.0   74.0  144.0  30.0  1.0  20.0   \n",
       "1909         조용호  28.0   68.0  225.0  191.0   34.0   52.0   7.0  1.0   0.0   \n",
       "1910         조용호  29.0   16.0   14.0   13.0    4.0    1.0   0.0  0.0   0.0   \n",
       "1911        히메네스  27.0   70.0  299.0  279.0   37.0   87.0  17.0  2.0  11.0   \n",
       "1912        히메네스  28.0  135.0  579.0  523.0  101.0  161.0  36.0  0.0  26.0   \n",
       "\n",
       "      ...   tp    1B   FBP    avg    OBP    SLG    OPS  p_year    YAB   YOPS  \n",
       "0     ...   포수   5.0   6.0  0.173  0.259  0.250  0.509    2014   79.0  0.580  \n",
       "1     ...   포수   8.0   5.0  0.177  0.226  0.354  0.580    2015  154.0  0.784  \n",
       "2     ...   포수  20.0  20.0  0.234  0.316  0.468  0.784    2016  174.0  0.581  \n",
       "3     ...   포수  23.0  20.0  0.195  0.276  0.305  0.581    2017   17.0  0.476  \n",
       "4     ...   포수   3.0   3.0  0.176  0.300  0.176  0.476    2018   47.0  0.691  \n",
       "...   ...  ...   ...   ...    ...    ...    ...    ...     ...    ...    ...  \n",
       "1908  ...  3루수  93.0  59.0  0.301  0.374  0.493  0.867    2019  395.0  0.768  \n",
       "1909  ...  우익수  44.0  28.0  0.272  0.365  0.319  0.684    2018   13.0  0.154  \n",
       "1910  ...  우익수   1.0   0.0  0.077  0.077  0.077  0.154    2019  188.0  0.720  \n",
       "1911  ...  3루수  57.0  16.0  0.312  0.344  0.505  0.849    2016  523.0  0.889  \n",
       "1912  ...  3루수  99.0  49.0  0.308  0.363  0.526  0.889    2017  181.0  0.769  \n",
       "\n",
       "[1913 rows x 37 columns]"
      ]
     },
     "execution_count": 2,
     "metadata": {},
     "output_type": "execute_result"
    }
   ],
   "source": [
    "import os\n",
    "# from pathlib import Path\n",
    "\n",
    "hit = pd.read_csv('2019_kbo_for_kaggle_v2.csv', encoding = 'cp949') # 작업파일과 데이터파일이 같은 폴더 안에 있으면 경로 설정 없이 이름만 쳐도 된다.\n",
    "hit"
   ]
  },
  {
   "cell_type": "markdown",
   "metadata": {},
   "source": [
    "Lests look at all the columns avalible to us."
   ]
  },
  {
   "cell_type": "markdown",
   "metadata": {},
   "source": [
    "## feature 종류"
   ]
  },
  {
   "cell_type": "code",
   "execution_count": 3,
   "metadata": {
    "execution": {
     "iopub.execute_input": "2021-11-15T20:05:36.163465Z",
     "iopub.status.busy": "2021-11-15T20:05:36.163163Z",
     "iopub.status.idle": "2021-11-15T20:05:36.169922Z",
     "shell.execute_reply": "2021-11-15T20:05:36.168951Z",
     "shell.execute_reply.started": "2021-11-15T20:05:36.163438Z"
    },
    "scrolled": true
   },
   "outputs": [
    {
     "data": {
      "text/plain": [
       "Index(['batter_name', 'age', 'G', 'PA', 'AB', 'R', 'H', '2B', '3B', 'HR', 'TB',\n",
       "       'RBI', 'SB', 'CS', 'BB', 'HBP', 'GB', 'SO', 'GDP', 'BU', 'fly', 'year',\n",
       "       'salary', 'war', 'year_born', 'hand2', 'cp', 'tp', '1B', 'FBP', 'avg',\n",
       "       'OBP', 'SLG', 'OPS', 'p_year', 'YAB', 'YOPS'],\n",
       "      dtype='object')"
      ]
     },
     "execution_count": 3,
     "metadata": {},
     "output_type": "execute_result"
    }
   ],
   "source": [
    "hit.columns"
   ]
  },
  {
   "cell_type": "markdown",
   "metadata": {},
   "source": [
    "37개의 features"
   ]
  },
  {
   "cell_type": "markdown",
   "metadata": {},
   "source": [
    "### 결측치 파악"
   ]
  },
  {
   "cell_type": "code",
   "execution_count": 4,
   "metadata": {
    "scrolled": false
   },
   "outputs": [
    {
     "data": {
      "text/plain": [
       "batter_name     0\n",
       "age             0\n",
       "G               0\n",
       "PA              0\n",
       "AB              0\n",
       "R               0\n",
       "H               0\n",
       "2B              0\n",
       "3B              0\n",
       "HR              0\n",
       "TB              0\n",
       "RBI             0\n",
       "SB              0\n",
       "CS              0\n",
       "BB              0\n",
       "HBP             0\n",
       "GB              0\n",
       "SO              0\n",
       "GDP             0\n",
       "BU              0\n",
       "fly             0\n",
       "year            0\n",
       "salary          0\n",
       "war             0\n",
       "year_born       0\n",
       "hand2           0\n",
       "cp              0\n",
       "tp              0\n",
       "1B              0\n",
       "FBP             0\n",
       "avg            14\n",
       "OBP            12\n",
       "SLG            14\n",
       "OPS            14\n",
       "p_year          0\n",
       "YAB             0\n",
       "YOPS           15\n",
       "dtype: int64"
      ]
     },
     "execution_count": 4,
     "metadata": {},
     "output_type": "execute_result"
    }
   ],
   "source": [
    "hit.isnull().sum()"
   ]
  },
  {
   "cell_type": "code",
   "execution_count": 5,
   "metadata": {},
   "outputs": [
    {
     "data": {
      "text/plain": [
       "batter_name    0\n",
       "age            0\n",
       "G              0\n",
       "PA             0\n",
       "AB             0\n",
       "R              0\n",
       "H              0\n",
       "2B             0\n",
       "3B             0\n",
       "HR             0\n",
       "TB             0\n",
       "RBI            0\n",
       "SB             0\n",
       "CS             0\n",
       "BB             0\n",
       "HBP            0\n",
       "GB             0\n",
       "SO             0\n",
       "GDP            0\n",
       "BU             0\n",
       "fly            0\n",
       "year           0\n",
       "salary         0\n",
       "war            0\n",
       "year_born      0\n",
       "hand2          0\n",
       "cp             0\n",
       "tp             0\n",
       "1B             0\n",
       "FBP            0\n",
       "avg            0\n",
       "OBP            0\n",
       "SLG            0\n",
       "OPS            0\n",
       "p_year         0\n",
       "YAB            0\n",
       "YOPS           0\n",
       "dtype: int64"
      ]
     },
     "execution_count": 5,
     "metadata": {},
     "output_type": "execute_result"
    }
   ],
   "source": [
    "#결측치가 존재하는 항은 제거해 주자\n",
    "hit = hit.dropna()\n",
    "hit.isnull().sum()"
   ]
  },
  {
   "cell_type": "markdown",
   "metadata": {},
   "source": [
    "### 불필요 feature 제거\n",
    "- year_born : 선수 출생일, age(나이) 데이터가 있으므로 중복으로 여겨짐\n",
    "- cp : 최근 포지션, tp(통합 포지션) 데이터가 있으므로 중복으로 여겨짐\n",
    "- p_year, YAB, YOPS : 왼쪽부터 다음 시즌 년도, 다음 시즌 타석 수, 다음 시즌 OPS\n",
    "\n",
    "불필요한 내용들로 간주, 제거"
   ]
  },
  {
   "cell_type": "code",
   "execution_count": 6,
   "metadata": {},
   "outputs": [
    {
     "data": {
      "text/html": [
       "<div>\n",
       "<style scoped>\n",
       "    .dataframe tbody tr th:only-of-type {\n",
       "        vertical-align: middle;\n",
       "    }\n",
       "\n",
       "    .dataframe tbody tr th {\n",
       "        vertical-align: top;\n",
       "    }\n",
       "\n",
       "    .dataframe thead th {\n",
       "        text-align: right;\n",
       "    }\n",
       "</style>\n",
       "<table border=\"1\" class=\"dataframe\">\n",
       "  <thead>\n",
       "    <tr style=\"text-align: right;\">\n",
       "      <th></th>\n",
       "      <th>batter_name</th>\n",
       "      <th>age</th>\n",
       "      <th>G</th>\n",
       "      <th>PA</th>\n",
       "      <th>AB</th>\n",
       "      <th>R</th>\n",
       "      <th>H</th>\n",
       "      <th>2B</th>\n",
       "      <th>3B</th>\n",
       "      <th>HR</th>\n",
       "      <th>...</th>\n",
       "      <th>salary</th>\n",
       "      <th>war</th>\n",
       "      <th>hand2</th>\n",
       "      <th>tp</th>\n",
       "      <th>1B</th>\n",
       "      <th>FBP</th>\n",
       "      <th>avg</th>\n",
       "      <th>OBP</th>\n",
       "      <th>SLG</th>\n",
       "      <th>OPS</th>\n",
       "    </tr>\n",
       "  </thead>\n",
       "  <tbody>\n",
       "    <tr>\n",
       "      <th>0</th>\n",
       "      <td>백용환</td>\n",
       "      <td>24.0</td>\n",
       "      <td>26.0</td>\n",
       "      <td>58.0</td>\n",
       "      <td>52.0</td>\n",
       "      <td>4.0</td>\n",
       "      <td>9.0</td>\n",
       "      <td>4.0</td>\n",
       "      <td>0.0</td>\n",
       "      <td>0.0</td>\n",
       "      <td>...</td>\n",
       "      <td>2500</td>\n",
       "      <td>-0.055</td>\n",
       "      <td>우투우타</td>\n",
       "      <td>포수</td>\n",
       "      <td>5.0</td>\n",
       "      <td>6.0</td>\n",
       "      <td>0.173</td>\n",
       "      <td>0.259</td>\n",
       "      <td>0.250</td>\n",
       "      <td>0.509</td>\n",
       "    </tr>\n",
       "    <tr>\n",
       "      <th>1</th>\n",
       "      <td>백용환</td>\n",
       "      <td>25.0</td>\n",
       "      <td>47.0</td>\n",
       "      <td>86.0</td>\n",
       "      <td>79.0</td>\n",
       "      <td>8.0</td>\n",
       "      <td>14.0</td>\n",
       "      <td>2.0</td>\n",
       "      <td>0.0</td>\n",
       "      <td>4.0</td>\n",
       "      <td>...</td>\n",
       "      <td>2900</td>\n",
       "      <td>-0.441</td>\n",
       "      <td>우투우타</td>\n",
       "      <td>포수</td>\n",
       "      <td>8.0</td>\n",
       "      <td>5.0</td>\n",
       "      <td>0.177</td>\n",
       "      <td>0.226</td>\n",
       "      <td>0.354</td>\n",
       "      <td>0.580</td>\n",
       "    </tr>\n",
       "    <tr>\n",
       "      <th>2</th>\n",
       "      <td>백용환</td>\n",
       "      <td>26.0</td>\n",
       "      <td>65.0</td>\n",
       "      <td>177.0</td>\n",
       "      <td>154.0</td>\n",
       "      <td>22.0</td>\n",
       "      <td>36.0</td>\n",
       "      <td>6.0</td>\n",
       "      <td>0.0</td>\n",
       "      <td>10.0</td>\n",
       "      <td>...</td>\n",
       "      <td>6000</td>\n",
       "      <td>0.783</td>\n",
       "      <td>우투우타</td>\n",
       "      <td>포수</td>\n",
       "      <td>20.0</td>\n",
       "      <td>20.0</td>\n",
       "      <td>0.234</td>\n",
       "      <td>0.316</td>\n",
       "      <td>0.468</td>\n",
       "      <td>0.784</td>\n",
       "    </tr>\n",
       "    <tr>\n",
       "      <th>3</th>\n",
       "      <td>백용환</td>\n",
       "      <td>27.0</td>\n",
       "      <td>80.0</td>\n",
       "      <td>199.0</td>\n",
       "      <td>174.0</td>\n",
       "      <td>12.0</td>\n",
       "      <td>34.0</td>\n",
       "      <td>7.0</td>\n",
       "      <td>0.0</td>\n",
       "      <td>4.0</td>\n",
       "      <td>...</td>\n",
       "      <td>6000</td>\n",
       "      <td>-0.405</td>\n",
       "      <td>우투우타</td>\n",
       "      <td>포수</td>\n",
       "      <td>23.0</td>\n",
       "      <td>20.0</td>\n",
       "      <td>0.195</td>\n",
       "      <td>0.276</td>\n",
       "      <td>0.305</td>\n",
       "      <td>0.581</td>\n",
       "    </tr>\n",
       "    <tr>\n",
       "      <th>4</th>\n",
       "      <td>백용환</td>\n",
       "      <td>28.0</td>\n",
       "      <td>15.0</td>\n",
       "      <td>20.0</td>\n",
       "      <td>17.0</td>\n",
       "      <td>2.0</td>\n",
       "      <td>3.0</td>\n",
       "      <td>0.0</td>\n",
       "      <td>0.0</td>\n",
       "      <td>0.0</td>\n",
       "      <td>...</td>\n",
       "      <td>5500</td>\n",
       "      <td>-0.130</td>\n",
       "      <td>우투우타</td>\n",
       "      <td>포수</td>\n",
       "      <td>3.0</td>\n",
       "      <td>3.0</td>\n",
       "      <td>0.176</td>\n",
       "      <td>0.300</td>\n",
       "      <td>0.176</td>\n",
       "      <td>0.476</td>\n",
       "    </tr>\n",
       "    <tr>\n",
       "      <th>...</th>\n",
       "      <td>...</td>\n",
       "      <td>...</td>\n",
       "      <td>...</td>\n",
       "      <td>...</td>\n",
       "      <td>...</td>\n",
       "      <td>...</td>\n",
       "      <td>...</td>\n",
       "      <td>...</td>\n",
       "      <td>...</td>\n",
       "      <td>...</td>\n",
       "      <td>...</td>\n",
       "      <td>...</td>\n",
       "      <td>...</td>\n",
       "      <td>...</td>\n",
       "      <td>...</td>\n",
       "      <td>...</td>\n",
       "      <td>...</td>\n",
       "      <td>...</td>\n",
       "      <td>...</td>\n",
       "      <td>...</td>\n",
       "      <td>...</td>\n",
       "    </tr>\n",
       "    <tr>\n",
       "      <th>1908</th>\n",
       "      <td>이원석</td>\n",
       "      <td>32.0</td>\n",
       "      <td>128.0</td>\n",
       "      <td>543.0</td>\n",
       "      <td>479.0</td>\n",
       "      <td>74.0</td>\n",
       "      <td>144.0</td>\n",
       "      <td>30.0</td>\n",
       "      <td>1.0</td>\n",
       "      <td>20.0</td>\n",
       "      <td>...</td>\n",
       "      <td>30000</td>\n",
       "      <td>3.315</td>\n",
       "      <td>우투우타</td>\n",
       "      <td>3루수</td>\n",
       "      <td>93.0</td>\n",
       "      <td>59.0</td>\n",
       "      <td>0.301</td>\n",
       "      <td>0.374</td>\n",
       "      <td>0.493</td>\n",
       "      <td>0.867</td>\n",
       "    </tr>\n",
       "    <tr>\n",
       "      <th>1909</th>\n",
       "      <td>조용호</td>\n",
       "      <td>28.0</td>\n",
       "      <td>68.0</td>\n",
       "      <td>225.0</td>\n",
       "      <td>191.0</td>\n",
       "      <td>34.0</td>\n",
       "      <td>52.0</td>\n",
       "      <td>7.0</td>\n",
       "      <td>1.0</td>\n",
       "      <td>0.0</td>\n",
       "      <td>...</td>\n",
       "      <td>3100</td>\n",
       "      <td>0.215</td>\n",
       "      <td>우투좌타</td>\n",
       "      <td>우익수</td>\n",
       "      <td>44.0</td>\n",
       "      <td>28.0</td>\n",
       "      <td>0.272</td>\n",
       "      <td>0.365</td>\n",
       "      <td>0.319</td>\n",
       "      <td>0.684</td>\n",
       "    </tr>\n",
       "    <tr>\n",
       "      <th>1910</th>\n",
       "      <td>조용호</td>\n",
       "      <td>29.0</td>\n",
       "      <td>16.0</td>\n",
       "      <td>14.0</td>\n",
       "      <td>13.0</td>\n",
       "      <td>4.0</td>\n",
       "      <td>1.0</td>\n",
       "      <td>0.0</td>\n",
       "      <td>0.0</td>\n",
       "      <td>0.0</td>\n",
       "      <td>...</td>\n",
       "      <td>6200</td>\n",
       "      <td>-0.271</td>\n",
       "      <td>우투좌타</td>\n",
       "      <td>우익수</td>\n",
       "      <td>1.0</td>\n",
       "      <td>0.0</td>\n",
       "      <td>0.077</td>\n",
       "      <td>0.077</td>\n",
       "      <td>0.077</td>\n",
       "      <td>0.154</td>\n",
       "    </tr>\n",
       "    <tr>\n",
       "      <th>1911</th>\n",
       "      <td>히메네스</td>\n",
       "      <td>27.0</td>\n",
       "      <td>70.0</td>\n",
       "      <td>299.0</td>\n",
       "      <td>279.0</td>\n",
       "      <td>37.0</td>\n",
       "      <td>87.0</td>\n",
       "      <td>17.0</td>\n",
       "      <td>2.0</td>\n",
       "      <td>11.0</td>\n",
       "      <td>...</td>\n",
       "      <td>50000</td>\n",
       "      <td>2.365</td>\n",
       "      <td>우투우타</td>\n",
       "      <td>3루수</td>\n",
       "      <td>57.0</td>\n",
       "      <td>16.0</td>\n",
       "      <td>0.312</td>\n",
       "      <td>0.344</td>\n",
       "      <td>0.505</td>\n",
       "      <td>0.849</td>\n",
       "    </tr>\n",
       "    <tr>\n",
       "      <th>1912</th>\n",
       "      <td>히메네스</td>\n",
       "      <td>28.0</td>\n",
       "      <td>135.0</td>\n",
       "      <td>579.0</td>\n",
       "      <td>523.0</td>\n",
       "      <td>101.0</td>\n",
       "      <td>161.0</td>\n",
       "      <td>36.0</td>\n",
       "      <td>0.0</td>\n",
       "      <td>26.0</td>\n",
       "      <td>...</td>\n",
       "      <td>50000</td>\n",
       "      <td>5.356</td>\n",
       "      <td>우투우타</td>\n",
       "      <td>3루수</td>\n",
       "      <td>99.0</td>\n",
       "      <td>49.0</td>\n",
       "      <td>0.308</td>\n",
       "      <td>0.363</td>\n",
       "      <td>0.526</td>\n",
       "      <td>0.889</td>\n",
       "    </tr>\n",
       "  </tbody>\n",
       "</table>\n",
       "<p>1885 rows × 32 columns</p>\n",
       "</div>"
      ],
      "text/plain": [
       "     batter_name   age      G     PA     AB      R      H    2B   3B    HR  \\\n",
       "0            백용환  24.0   26.0   58.0   52.0    4.0    9.0   4.0  0.0   0.0   \n",
       "1            백용환  25.0   47.0   86.0   79.0    8.0   14.0   2.0  0.0   4.0   \n",
       "2            백용환  26.0   65.0  177.0  154.0   22.0   36.0   6.0  0.0  10.0   \n",
       "3            백용환  27.0   80.0  199.0  174.0   12.0   34.0   7.0  0.0   4.0   \n",
       "4            백용환  28.0   15.0   20.0   17.0    2.0    3.0   0.0  0.0   0.0   \n",
       "...          ...   ...    ...    ...    ...    ...    ...   ...  ...   ...   \n",
       "1908         이원석  32.0  128.0  543.0  479.0   74.0  144.0  30.0  1.0  20.0   \n",
       "1909         조용호  28.0   68.0  225.0  191.0   34.0   52.0   7.0  1.0   0.0   \n",
       "1910         조용호  29.0   16.0   14.0   13.0    4.0    1.0   0.0  0.0   0.0   \n",
       "1911        히메네스  27.0   70.0  299.0  279.0   37.0   87.0  17.0  2.0  11.0   \n",
       "1912        히메네스  28.0  135.0  579.0  523.0  101.0  161.0  36.0  0.0  26.0   \n",
       "\n",
       "      ...  salary    war  hand2   tp    1B   FBP    avg    OBP    SLG    OPS  \n",
       "0     ...    2500 -0.055   우투우타   포수   5.0   6.0  0.173  0.259  0.250  0.509  \n",
       "1     ...    2900 -0.441   우투우타   포수   8.0   5.0  0.177  0.226  0.354  0.580  \n",
       "2     ...    6000  0.783   우투우타   포수  20.0  20.0  0.234  0.316  0.468  0.784  \n",
       "3     ...    6000 -0.405   우투우타   포수  23.0  20.0  0.195  0.276  0.305  0.581  \n",
       "4     ...    5500 -0.130   우투우타   포수   3.0   3.0  0.176  0.300  0.176  0.476  \n",
       "...   ...     ...    ...    ...  ...   ...   ...    ...    ...    ...    ...  \n",
       "1908  ...   30000  3.315   우투우타  3루수  93.0  59.0  0.301  0.374  0.493  0.867  \n",
       "1909  ...    3100  0.215   우투좌타  우익수  44.0  28.0  0.272  0.365  0.319  0.684  \n",
       "1910  ...    6200 -0.271   우투좌타  우익수   1.0   0.0  0.077  0.077  0.077  0.154  \n",
       "1911  ...   50000  2.365   우투우타  3루수  57.0  16.0  0.312  0.344  0.505  0.849  \n",
       "1912  ...   50000  5.356   우투우타  3루수  99.0  49.0  0.308  0.363  0.526  0.889  \n",
       "\n",
       "[1885 rows x 32 columns]"
      ]
     },
     "execution_count": 6,
     "metadata": {},
     "output_type": "execute_result"
    }
   ],
   "source": [
    "#제거코드\n",
    "hit.drop(['year_born','cp','p_year','YAB','YOPS'], axis = 1)"
   ]
  },
  {
   "cell_type": "markdown",
   "metadata": {},
   "source": [
    "### Top salary"
   ]
  },
  {
   "cell_type": "code",
   "execution_count": 7,
   "metadata": {
    "execution": {
     "iopub.execute_input": "2021-11-15T20:05:36.171767Z",
     "iopub.status.busy": "2021-11-15T20:05:36.171303Z",
     "iopub.status.idle": "2021-11-15T20:05:36.186571Z",
     "shell.execute_reply": "2021-11-15T20:05:36.185661Z",
     "shell.execute_reply.started": "2021-11-15T20:05:36.171737Z"
    }
   },
   "outputs": [
    {
     "data": {
      "text/plain": [
       "1338    250000\n",
       "1339    250000\n",
       "1684    160000\n",
       "1683    160000\n",
       "1685    160000\n",
       "         ...  \n",
       "1188      1800\n",
       "1211      1800\n",
       "1475      1700\n",
       "1490      1700\n",
       "1491      1700\n",
       "Name: salary, Length: 1885, dtype: int64"
      ]
     },
     "execution_count": 7,
     "metadata": {},
     "output_type": "execute_result"
    }
   ],
   "source": [
    "topSals = hit.sort_values(by = ['salary'], ascending  = False)\n",
    "topSals['salary']"
   ]
  },
  {
   "cell_type": "markdown",
   "metadata": {},
   "source": [
    "### 선수 기량 평가 지수\n",
    "* Batting Average (avg) - 타율\n",
    "* On-base Plus Slugging (OPS) - 출루율 + 장타력(공격점수) \n",
    "* Wins Above Replacement (WAR) - 공격점수 + 수비점수\n",
    "\n",
    "이중 가장 연봉과 관련있는 지표를 찾아보자"
   ]
  },
  {
   "cell_type": "markdown",
   "metadata": {},
   "source": [
    "### 타율과 연봉의 상관관계"
   ]
  },
  {
   "cell_type": "code",
   "execution_count": 8,
   "metadata": {
    "execution": {
     "iopub.execute_input": "2021-11-15T20:05:36.352803Z",
     "iopub.status.busy": "2021-11-15T20:05:36.352367Z",
     "iopub.status.idle": "2021-11-15T20:05:36.50415Z",
     "shell.execute_reply": "2021-11-15T20:05:36.503164Z",
     "shell.execute_reply.started": "2021-11-15T20:05:36.352768Z"
    }
   },
   "outputs": [
    {
     "data": {
      "image/png": "[encoded data removed]",
      "text/plain": [
       "<Figure size 432x288 with 1 Axes>"
      ]
     },
     "metadata": {
      "needs_background": "light"
     },
     "output_type": "display_data"
    }
   ],
   "source": [
    "plt.scatter(x = hit['avg'], y = hit['salary'])\n",
    "plt.xlabel('Avg')\n",
    "plt.ylabel('Salary')\n",
    "plt.show()"
   ]
  },
  {
   "cell_type": "markdown",
   "metadata": {},
   "source": [
    "선수들의 타율은 주로 0.2 ~0.4에 분포하고 있으며, 이 사에에선 같은 타율이라도 연봉이 천차만별이다. 타율과 연봉은 크게 상관이 없는듯해 보인다."
   ]
  },
  {
   "cell_type": "markdown",
   "metadata": {},
   "source": [
    "### OPS(공격점수)와 연봉의 상관관계"
   ]
  },
  {
   "cell_type": "code",
   "execution_count": 9,
   "metadata": {
    "execution": {
     "iopub.execute_input": "2021-11-15T20:05:36.505758Z",
     "iopub.status.busy": "2021-11-15T20:05:36.505429Z",
     "iopub.status.idle": "2021-11-15T20:05:36.665257Z",
     "shell.execute_reply": "2021-11-15T20:05:36.66449Z",
     "shell.execute_reply.started": "2021-11-15T20:05:36.505727Z"
    },
    "scrolled": true
   },
   "outputs": [
    {
     "data": {
      "image/png": "[encoded data removed]",
      "text/plain": [
       "<Figure size 432x288 with 1 Axes>"
      ]
     },
     "metadata": {
      "needs_background": "light"
     },
     "output_type": "display_data"
    }
   ],
   "source": [
    "plt.scatter(x = hit['OPS'], y = hit['salary'])\n",
    "plt.xlabel('OPS')\n",
    "plt.ylabel('Salary')\n",
    "plt.show()"
   ]
  },
  {
   "cell_type": "markdown",
   "metadata": {},
   "source": [
    "OPS = OBP(출루율) + SLG(장타율)\n",
    "\n",
    "주로 0.5 ~ 1.0 사이에 분포한다. 이 또한 연봉과 밀접하게 관련이 없어보인다."
   ]
  },
  {
   "cell_type": "code",
   "execution_count": 10,
   "metadata": {
    "execution": {
     "iopub.execute_input": "2021-11-15T20:05:36.667084Z",
     "iopub.status.busy": "2021-11-15T20:05:36.666503Z",
     "iopub.status.idle": "2021-11-15T20:05:36.947535Z",
     "shell.execute_reply": "2021-11-15T20:05:36.946729Z",
     "shell.execute_reply.started": "2021-11-15T20:05:36.667039Z"
    }
   },
   "outputs": [
    {
     "data": {
      "image/png": "[encoded data removed]",
      "text/plain": [
       "<Figure size 432x288 with 1 Axes>"
      ]
     },
     "metadata": {
      "needs_background": "light"
     },
     "output_type": "display_data"
    }
   ],
   "source": [
    "sns.scatterplot(x = hit['OPS'], y = hit['salary'], hue = hit['age']>30)\n",
    "plt.xlabel('OPS')\n",
    "plt.ylabel('Salary')\n",
    "plt.show()"
   ]
  },
  {
   "cell_type": "markdown",
   "metadata": {},
   "source": [
    "30세 이상의 선수들이 같은 OPS 수치인 젊은 선수 대비 더 많은 연봉을 받는다. - 짬대우? 더 두터운 팬층 보유로 인한 advantage?"
   ]
  },
  {
   "cell_type": "markdown",
   "metadata": {},
   "source": [
    "### WAR(대체 선수 대비 승리 기여도)와 연봉의 상관관계\n",
    "\n",
    "#### 특징\n",
    "WAR은 한 선수가 기록한 전 종목의 성적을 바탕으로 계산되며, 물론 선수의 포지션에 따라, 그리고 해당 년도의 상황까지도 포함한다. 리그와 구장에 의한 요소마저도 보정한다. 그래서 포지션에 상관없이 선수 비교가 가능해져 WAR을 자주 사용한다\n",
    "\n",
    "#### 한계\n",
    "전반적으로 타자의 WAR가 투수보다 수치가 더 높게 나온다. \n",
    "\n",
    "포지션에 따른 수비 WAR보정을 하는데 유격수는 7.5의 가중치를 주고 1루수는 –12.5를 사용하는데 이것이 합리적인가에 대한 의견도 있고, 불펜투수와 선발투수의 WAR 차이, 포수의 프레이밍이나 투수리드 능력, 주장으로 선수를 아우르는 팀 케미스트리 부분 또한 평가할 수 없는 한계를 지니고 있다. 그렇기 때문에 WAR을 믿지 않는 사람들도 있다\n"
   ]
  },
  {
   "cell_type": "code",
   "execution_count": 11,
   "metadata": {
    "execution": {
     "iopub.execute_input": "2021-11-15T20:05:36.950949Z",
     "iopub.status.busy": "2021-11-15T20:05:36.950322Z",
     "iopub.status.idle": "2021-11-15T20:05:37.122398Z",
     "shell.execute_reply": "2021-11-15T20:05:37.121523Z",
     "shell.execute_reply.started": "2021-11-15T20:05:36.9509Z"
    },
    "scrolled": true
   },
   "outputs": [
    {
     "data": {
      "text/plain": [
       "<AxesSubplot:xlabel='war', ylabel='salary'>"
      ]
     },
     "execution_count": 11,
     "metadata": {},
     "output_type": "execute_result"
    },
    {
     "data": {
      "image/png": "[encoded data removed]",
      "text/plain": [
       "<Figure size 432x288 with 1 Axes>"
      ]
     },
     "metadata": {
      "needs_background": "light"
     },
     "output_type": "display_data"
    }
   ],
   "source": [
    "sns.scatterplot(x = hit['war'], y = hit['salary'], hue = hit['age']>30, alpha = 0.5)"
   ]
  },
  {
   "cell_type": "markdown",
   "metadata": {},
   "source": [
    "WAR과 연봉은 아무 상관관계가 없다는 것을 알 수 있다."
   ]
  },
  {
   "cell_type": "markdown",
   "metadata": {},
   "source": [
    "## 좌타자 우타자 연봉 비교\n",
    "\n",
    "야구계에서는 좌타자가 우타자에 비해 1루에 가깝게 서 있어 진루에 유리하고, 투수들도 좌타자를 더 까다로워 한다는 속설이 있다. 그렇다면 좌타자는 우타자보다 연봉을 많이 받을까?\n",
    "\n",
    "먼저 좌타자와 우타자의 연봉을 비교해 보기로 했다."
   ]
  },
  {
   "cell_type": "code",
   "execution_count": 12,
   "metadata": {
    "scrolled": false
   },
   "outputs": [
    {
     "data": {
      "image/png": "[encoded data removed]",
      "text/plain": [
       "<Figure size 432x288 with 1 Axes>"
      ]
     },
     "metadata": {
      "needs_background": "light"
     },
     "output_type": "display_data"
    }
   ],
   "source": [
    "from matplotlib import font_manager, rc\n",
    "import matplotlib.font_manager as fm\n",
    "import platform\n",
    "\n",
    "# Scatter plot by Groups\n",
    "plt.rc('font', family='NanumGothic')\n",
    "plt.rcParams['axes.unicode_minus'] = False\n",
    "\n",
    "sns.scatterplot(x='hand2', \n",
    "\n",
    "                y='salary', \n",
    "\n",
    "                hue='hand2', # different colors by group\n",
    "\n",
    "                s=100, # marker size\n",
    "                \n",
    "                alpha = 0.1,\n",
    "\n",
    "                data=hit)\n",
    "\n",
    "plt.show()"
   ]
  },
  {
   "cell_type": "markdown",
   "metadata": {},
   "source": [
    "해당 그래프로는 좌타자와 우타자의 연봉 차이가 명확히 보이지 않았다. 따라서 우투우타, 우타우투는 우타자, 나머지는 좌타자, (양손타자는 별개로 인덱싱)로 인덱싱하는 컬럼을 추가한 뒤 각각의 연봉 평균을 비교해보기로 했다."
   ]
  },
  {
   "cell_type": "markdown",
   "metadata": {},
   "source": [
    "#### 칼럼 추가하기(right_hand 칼럼 추가)\n",
    "우타자는 우타자끼리, 좌타자는 좌타자끼리 나누었다. 양타자는 따로 인덱싱해 주었다."
   ]
  },
  {
   "cell_type": "code",
   "execution_count": 13,
   "metadata": {},
   "outputs": [
    {
     "name": "stderr",
     "output_type": "stream",
     "text": [
      "/tmp/ipykernel_149/3743550577.py:2: SettingWithCopyWarning: \n",
      "A value is trying to be set on a copy of a slice from a DataFrame.\n",
      "Try using .loc[row_indexer,col_indexer] = value instead\n",
      "\n",
      "See the caveats in the documentation: https://pandas.pydata.org/pandas-docs/stable/user_guide/indexing.html#returning-a-view-versus-a-copy\n",
      "  hit['Right_hand'] = (hit['hand2']=='우투우타') | (hit['hand2']=='우타우투') #만약 우투우타 혹은 우타우투면 true, 나머지는 false로 인덱싱\n",
      "/tmp/ipykernel_149/3743550577.py:3: SettingWithCopyWarning: \n",
      "A value is trying to be set on a copy of a slice from a DataFrame.\n",
      "Try using .loc[row_indexer,col_indexer] = value instead\n",
      "\n",
      "See the caveats in the documentation: https://pandas.pydata.org/pandas-docs/stable/user_guide/indexing.html#returning-a-view-versus-a-copy\n",
      "  hit[\"Right_hand\"] = hit[\"Right_hand\"].astype(np.int64) #t/f값을 1/0값으로 변경\n",
      "/opt/conda/lib/python3.9/site-packages/pandas/core/indexing.py:1817: SettingWithCopyWarning: \n",
      "A value is trying to be set on a copy of a slice from a DataFrame.\n",
      "Try using .loc[row_indexer,col_indexer] = value instead\n",
      "\n",
      "See the caveats in the documentation: https://pandas.pydata.org/pandas-docs/stable/user_guide/indexing.html#returning-a-view-versus-a-copy\n",
      "  self._setitem_single_column(loc, value, pi)\n"
     ]
    },
    {
     "data": {
      "text/html": [
       "<div>\n",
       "<style scoped>\n",
       "    .dataframe tbody tr th:only-of-type {\n",
       "        vertical-align: middle;\n",
       "    }\n",
       "\n",
       "    .dataframe tbody tr th {\n",
       "        vertical-align: top;\n",
       "    }\n",
       "\n",
       "    .dataframe thead th {\n",
       "        text-align: right;\n",
       "    }\n",
       "</style>\n",
       "<table border=\"1\" class=\"dataframe\">\n",
       "  <thead>\n",
       "    <tr style=\"text-align: right;\">\n",
       "      <th></th>\n",
       "      <th>batter_name</th>\n",
       "      <th>age</th>\n",
       "      <th>G</th>\n",
       "      <th>PA</th>\n",
       "      <th>AB</th>\n",
       "      <th>R</th>\n",
       "      <th>H</th>\n",
       "      <th>2B</th>\n",
       "      <th>3B</th>\n",
       "      <th>HR</th>\n",
       "      <th>...</th>\n",
       "      <th>1B</th>\n",
       "      <th>FBP</th>\n",
       "      <th>avg</th>\n",
       "      <th>OBP</th>\n",
       "      <th>SLG</th>\n",
       "      <th>OPS</th>\n",
       "      <th>p_year</th>\n",
       "      <th>YAB</th>\n",
       "      <th>YOPS</th>\n",
       "      <th>Right_hand</th>\n",
       "    </tr>\n",
       "  </thead>\n",
       "  <tbody>\n",
       "    <tr>\n",
       "      <th>0</th>\n",
       "      <td>백용환</td>\n",
       "      <td>24.0</td>\n",
       "      <td>26.0</td>\n",
       "      <td>58.0</td>\n",
       "      <td>52.0</td>\n",
       "      <td>4.0</td>\n",
       "      <td>9.0</td>\n",
       "      <td>4.0</td>\n",
       "      <td>0.0</td>\n",
       "      <td>0.0</td>\n",
       "      <td>...</td>\n",
       "      <td>5.0</td>\n",
       "      <td>6.0</td>\n",
       "      <td>0.173</td>\n",
       "      <td>0.259</td>\n",
       "      <td>0.250</td>\n",
       "      <td>0.509</td>\n",
       "      <td>2014</td>\n",
       "      <td>79.0</td>\n",
       "      <td>0.580</td>\n",
       "      <td>1</td>\n",
       "    </tr>\n",
       "    <tr>\n",
       "      <th>1</th>\n",
       "      <td>백용환</td>\n",
       "      <td>25.0</td>\n",
       "      <td>47.0</td>\n",
       "      <td>86.0</td>\n",
       "      <td>79.0</td>\n",
       "      <td>8.0</td>\n",
       "      <td>14.0</td>\n",
       "      <td>2.0</td>\n",
       "      <td>0.0</td>\n",
       "      <td>4.0</td>\n",
       "      <td>...</td>\n",
       "      <td>8.0</td>\n",
       "      <td>5.0</td>\n",
       "      <td>0.177</td>\n",
       "      <td>0.226</td>\n",
       "      <td>0.354</td>\n",
       "      <td>0.580</td>\n",
       "      <td>2015</td>\n",
       "      <td>154.0</td>\n",
       "      <td>0.784</td>\n",
       "      <td>1</td>\n",
       "    </tr>\n",
       "    <tr>\n",
       "      <th>2</th>\n",
       "      <td>백용환</td>\n",
       "      <td>26.0</td>\n",
       "      <td>65.0</td>\n",
       "      <td>177.0</td>\n",
       "      <td>154.0</td>\n",
       "      <td>22.0</td>\n",
       "      <td>36.0</td>\n",
       "      <td>6.0</td>\n",
       "      <td>0.0</td>\n",
       "      <td>10.0</td>\n",
       "      <td>...</td>\n",
       "      <td>20.0</td>\n",
       "      <td>20.0</td>\n",
       "      <td>0.234</td>\n",
       "      <td>0.316</td>\n",
       "      <td>0.468</td>\n",
       "      <td>0.784</td>\n",
       "      <td>2016</td>\n",
       "      <td>174.0</td>\n",
       "      <td>0.581</td>\n",
       "      <td>1</td>\n",
       "    </tr>\n",
       "    <tr>\n",
       "      <th>3</th>\n",
       "      <td>백용환</td>\n",
       "      <td>27.0</td>\n",
       "      <td>80.0</td>\n",
       "      <td>199.0</td>\n",
       "      <td>174.0</td>\n",
       "      <td>12.0</td>\n",
       "      <td>34.0</td>\n",
       "      <td>7.0</td>\n",
       "      <td>0.0</td>\n",
       "      <td>4.0</td>\n",
       "      <td>...</td>\n",
       "      <td>23.0</td>\n",
       "      <td>20.0</td>\n",
       "      <td>0.195</td>\n",
       "      <td>0.276</td>\n",
       "      <td>0.305</td>\n",
       "      <td>0.581</td>\n",
       "      <td>2017</td>\n",
       "      <td>17.0</td>\n",
       "      <td>0.476</td>\n",
       "      <td>1</td>\n",
       "    </tr>\n",
       "    <tr>\n",
       "      <th>4</th>\n",
       "      <td>백용환</td>\n",
       "      <td>28.0</td>\n",
       "      <td>15.0</td>\n",
       "      <td>20.0</td>\n",
       "      <td>17.0</td>\n",
       "      <td>2.0</td>\n",
       "      <td>3.0</td>\n",
       "      <td>0.0</td>\n",
       "      <td>0.0</td>\n",
       "      <td>0.0</td>\n",
       "      <td>...</td>\n",
       "      <td>3.0</td>\n",
       "      <td>3.0</td>\n",
       "      <td>0.176</td>\n",
       "      <td>0.300</td>\n",
       "      <td>0.176</td>\n",
       "      <td>0.476</td>\n",
       "      <td>2018</td>\n",
       "      <td>47.0</td>\n",
       "      <td>0.691</td>\n",
       "      <td>1</td>\n",
       "    </tr>\n",
       "    <tr>\n",
       "      <th>...</th>\n",
       "      <td>...</td>\n",
       "      <td>...</td>\n",
       "      <td>...</td>\n",
       "      <td>...</td>\n",
       "      <td>...</td>\n",
       "      <td>...</td>\n",
       "      <td>...</td>\n",
       "      <td>...</td>\n",
       "      <td>...</td>\n",
       "      <td>...</td>\n",
       "      <td>...</td>\n",
       "      <td>...</td>\n",
       "      <td>...</td>\n",
       "      <td>...</td>\n",
       "      <td>...</td>\n",
       "      <td>...</td>\n",
       "      <td>...</td>\n",
       "      <td>...</td>\n",
       "      <td>...</td>\n",
       "      <td>...</td>\n",
       "      <td>...</td>\n",
       "    </tr>\n",
       "    <tr>\n",
       "      <th>1908</th>\n",
       "      <td>이원석</td>\n",
       "      <td>32.0</td>\n",
       "      <td>128.0</td>\n",
       "      <td>543.0</td>\n",
       "      <td>479.0</td>\n",
       "      <td>74.0</td>\n",
       "      <td>144.0</td>\n",
       "      <td>30.0</td>\n",
       "      <td>1.0</td>\n",
       "      <td>20.0</td>\n",
       "      <td>...</td>\n",
       "      <td>93.0</td>\n",
       "      <td>59.0</td>\n",
       "      <td>0.301</td>\n",
       "      <td>0.374</td>\n",
       "      <td>0.493</td>\n",
       "      <td>0.867</td>\n",
       "      <td>2019</td>\n",
       "      <td>395.0</td>\n",
       "      <td>0.768</td>\n",
       "      <td>1</td>\n",
       "    </tr>\n",
       "    <tr>\n",
       "      <th>1909</th>\n",
       "      <td>조용호</td>\n",
       "      <td>28.0</td>\n",
       "      <td>68.0</td>\n",
       "      <td>225.0</td>\n",
       "      <td>191.0</td>\n",
       "      <td>34.0</td>\n",
       "      <td>52.0</td>\n",
       "      <td>7.0</td>\n",
       "      <td>1.0</td>\n",
       "      <td>0.0</td>\n",
       "      <td>...</td>\n",
       "      <td>44.0</td>\n",
       "      <td>28.0</td>\n",
       "      <td>0.272</td>\n",
       "      <td>0.365</td>\n",
       "      <td>0.319</td>\n",
       "      <td>0.684</td>\n",
       "      <td>2018</td>\n",
       "      <td>13.0</td>\n",
       "      <td>0.154</td>\n",
       "      <td>0</td>\n",
       "    </tr>\n",
       "    <tr>\n",
       "      <th>1910</th>\n",
       "      <td>조용호</td>\n",
       "      <td>29.0</td>\n",
       "      <td>16.0</td>\n",
       "      <td>14.0</td>\n",
       "      <td>13.0</td>\n",
       "      <td>4.0</td>\n",
       "      <td>1.0</td>\n",
       "      <td>0.0</td>\n",
       "      <td>0.0</td>\n",
       "      <td>0.0</td>\n",
       "      <td>...</td>\n",
       "      <td>1.0</td>\n",
       "      <td>0.0</td>\n",
       "      <td>0.077</td>\n",
       "      <td>0.077</td>\n",
       "      <td>0.077</td>\n",
       "      <td>0.154</td>\n",
       "      <td>2019</td>\n",
       "      <td>188.0</td>\n",
       "      <td>0.720</td>\n",
       "      <td>0</td>\n",
       "    </tr>\n",
       "    <tr>\n",
       "      <th>1911</th>\n",
       "      <td>히메네스</td>\n",
       "      <td>27.0</td>\n",
       "      <td>70.0</td>\n",
       "      <td>299.0</td>\n",
       "      <td>279.0</td>\n",
       "      <td>37.0</td>\n",
       "      <td>87.0</td>\n",
       "      <td>17.0</td>\n",
       "      <td>2.0</td>\n",
       "      <td>11.0</td>\n",
       "      <td>...</td>\n",
       "      <td>57.0</td>\n",
       "      <td>16.0</td>\n",
       "      <td>0.312</td>\n",
       "      <td>0.344</td>\n",
       "      <td>0.505</td>\n",
       "      <td>0.849</td>\n",
       "      <td>2016</td>\n",
       "      <td>523.0</td>\n",
       "      <td>0.889</td>\n",
       "      <td>1</td>\n",
       "    </tr>\n",
       "    <tr>\n",
       "      <th>1912</th>\n",
       "      <td>히메네스</td>\n",
       "      <td>28.0</td>\n",
       "      <td>135.0</td>\n",
       "      <td>579.0</td>\n",
       "      <td>523.0</td>\n",
       "      <td>101.0</td>\n",
       "      <td>161.0</td>\n",
       "      <td>36.0</td>\n",
       "      <td>0.0</td>\n",
       "      <td>26.0</td>\n",
       "      <td>...</td>\n",
       "      <td>99.0</td>\n",
       "      <td>49.0</td>\n",
       "      <td>0.308</td>\n",
       "      <td>0.363</td>\n",
       "      <td>0.526</td>\n",
       "      <td>0.889</td>\n",
       "      <td>2017</td>\n",
       "      <td>181.0</td>\n",
       "      <td>0.769</td>\n",
       "      <td>1</td>\n",
       "    </tr>\n",
       "  </tbody>\n",
       "</table>\n",
       "<p>1885 rows × 38 columns</p>\n",
       "</div>"
      ],
      "text/plain": [
       "     batter_name   age      G     PA     AB      R      H    2B   3B    HR  \\\n",
       "0            백용환  24.0   26.0   58.0   52.0    4.0    9.0   4.0  0.0   0.0   \n",
       "1            백용환  25.0   47.0   86.0   79.0    8.0   14.0   2.0  0.0   4.0   \n",
       "2            백용환  26.0   65.0  177.0  154.0   22.0   36.0   6.0  0.0  10.0   \n",
       "3            백용환  27.0   80.0  199.0  174.0   12.0   34.0   7.0  0.0   4.0   \n",
       "4            백용환  28.0   15.0   20.0   17.0    2.0    3.0   0.0  0.0   0.0   \n",
       "...          ...   ...    ...    ...    ...    ...    ...   ...  ...   ...   \n",
       "1908         이원석  32.0  128.0  543.0  479.0   74.0  144.0  30.0  1.0  20.0   \n",
       "1909         조용호  28.0   68.0  225.0  191.0   34.0   52.0   7.0  1.0   0.0   \n",
       "1910         조용호  29.0   16.0   14.0   13.0    4.0    1.0   0.0  0.0   0.0   \n",
       "1911        히메네스  27.0   70.0  299.0  279.0   37.0   87.0  17.0  2.0  11.0   \n",
       "1912        히메네스  28.0  135.0  579.0  523.0  101.0  161.0  36.0  0.0  26.0   \n",
       "\n",
       "      ...    1B   FBP    avg    OBP    SLG    OPS  p_year    YAB   YOPS  \\\n",
       "0     ...   5.0   6.0  0.173  0.259  0.250  0.509    2014   79.0  0.580   \n",
       "1     ...   8.0   5.0  0.177  0.226  0.354  0.580    2015  154.0  0.784   \n",
       "2     ...  20.0  20.0  0.234  0.316  0.468  0.784    2016  174.0  0.581   \n",
       "3     ...  23.0  20.0  0.195  0.276  0.305  0.581    2017   17.0  0.476   \n",
       "4     ...   3.0   3.0  0.176  0.300  0.176  0.476    2018   47.0  0.691   \n",
       "...   ...   ...   ...    ...    ...    ...    ...     ...    ...    ...   \n",
       "1908  ...  93.0  59.0  0.301  0.374  0.493  0.867    2019  395.0  0.768   \n",
       "1909  ...  44.0  28.0  0.272  0.365  0.319  0.684    2018   13.0  0.154   \n",
       "1910  ...   1.0   0.0  0.077  0.077  0.077  0.154    2019  188.0  0.720   \n",
       "1911  ...  57.0  16.0  0.312  0.344  0.505  0.849    2016  523.0  0.889   \n",
       "1912  ...  99.0  49.0  0.308  0.363  0.526  0.889    2017  181.0  0.769   \n",
       "\n",
       "      Right_hand  \n",
       "0              1  \n",
       "1              1  \n",
       "2              1  \n",
       "3              1  \n",
       "4              1  \n",
       "...          ...  \n",
       "1908           1  \n",
       "1909           0  \n",
       "1910           0  \n",
       "1911           1  \n",
       "1912           1  \n",
       "\n",
       "[1885 rows x 38 columns]"
      ]
     },
     "execution_count": 13,
     "metadata": {},
     "output_type": "execute_result"
    }
   ],
   "source": [
    "#우투우타, 우타우투 = 1, 나머지 = 0로 인덱싱(우타 = 1, 좌타 = 0)\n",
    "hit['Right_hand'] = (hit['hand2']=='우투우타') | (hit['hand2']=='우타우투') #만약 우투우타 혹은 우타우투면 true, 나머지는 false로 인덱싱\n",
    "hit[\"Right_hand\"] = hit[\"Right_hand\"].astype(np.int64) #t/f값을 1/0값으로 변경\n",
    "\n",
    "#양타 = 2\n",
    "hit.loc[hit['hand2'] == '우투양타', 'Right_hand'] = 2 #만약 hand2 == 우투양타, right_hand = 2로 변경\n",
    "\n",
    "hit"
   ]
  },
  {
   "cell_type": "code",
   "execution_count": 14,
   "metadata": {
    "scrolled": true
   },
   "outputs": [
    {
     "data": {
      "text/plain": [
       "1    1225\n",
       "0     623\n",
       "2      37\n",
       "Name: Right_hand, dtype: int64"
      ]
     },
     "execution_count": 14,
     "metadata": {},
     "output_type": "execute_result"
    }
   ],
   "source": [
    "# 좌타자와 우타자, 그리고 양타자 수 비교\n",
    "hit['Right_hand'].value_counts()"
   ]
  },
  {
   "cell_type": "code",
   "execution_count": 15,
   "metadata": {},
   "outputs": [
    {
     "data": {
      "image/png": "[encoded data removed]",
      "text/plain": [
       "<Figure size 576x576 with 1 Axes>"
      ]
     },
     "metadata": {},
     "output_type": "display_data"
    }
   ],
   "source": [
    "#시각화\n",
    "temp = hit['Right_hand'].value_counts()\n",
    "counts = []\n",
    "for i in temp:\n",
    "    counts.append(i)\n",
    "\n",
    "explode = [0, 0.05, 0.1]\n",
    "\n",
    "plt.figure(figsize = (8,8))\n",
    "plt.rc('font', size=15)\n",
    "plt.pie(counts, autopct='%.1f%%', explode = explode, shadow=True)\n",
    "plt.legend(['우타자','좌타자','양손타자'])\n",
    "plt.title('타자 종류')\n",
    "plt.show()"
   ]
  },
  {
   "cell_type": "markdown",
   "metadata": {},
   "source": [
    "보다시피 1(우타자)가 0(좌타자)보다 2배 가량 많은 것으로 보인다. 또 양손을 다 쓸 수 있는 양타자는 37명으로, 매우 극소수로 파악되었다.\n",
    "\n",
    "좌타자가 KBO계에서 적은 편에 속한다는 사실을 알 수 있었다. 투수들이 좌타자를 까다로워하는 이유도 상대적으로 좌타자를 마주칠 경험이 적기 때문인 것으로 사려된다.\n",
    "\n",
    "이제 우타자와 좌타자, 양타자의 연봉 평균을 비교해 보자"
   ]
  },
  {
   "cell_type": "code",
   "execution_count": 16,
   "metadata": {
    "scrolled": false
   },
   "outputs": [
    {
     "data": {
      "text/plain": [
       "0    14562.030498\n",
       "1    14330.995918\n",
       "2     7778.378378\n",
       "Name: salary, dtype: float64"
      ]
     },
     "execution_count": 16,
     "metadata": {},
     "output_type": "execute_result"
    }
   ],
   "source": [
    "hit_salary = hit.groupby(['Right_hand'], as_index=False).mean()\n",
    "hit_salary['salary']"
   ]
  },
  {
   "cell_type": "code",
   "execution_count": 17,
   "metadata": {},
   "outputs": [
    {
     "data": {
      "image/png": "[encoded data removed]",
      "text/plain": [
       "<Figure size 360x360 with 1 Axes>"
      ]
     },
     "metadata": {
      "needs_background": "light"
     },
     "output_type": "display_data"
    }
   ],
   "source": [
    "#시각화\n",
    "plt.figure(figsize = (5,5))\n",
    "plt.rc('font', size=12)\n",
    "sns.barplot(x = ['좌타','우타','양타'], y =  hit_salary[\"salary\"])\n",
    "plt.title('타자 종류별 평균 연봉 비교')\n",
    "plt.xlabel('Right_hand')\n",
    "plt.ylabel('Salary')\n",
    "plt.show()\n"
   ]
  },
  {
   "cell_type": "markdown",
   "metadata": {},
   "source": [
    "좌타자와 우타자의 연봉 평균을 내 보았다.\n",
    "\n",
    "좌타자가 우타자에 비해 조금 더 높은 평균 연봉을 가지는 것을 알 수 있었다. 그러나 큰 차이는 발견되지 않았다.\n",
    "\n",
    "양손타자는 그 활용도만 보면 굉장히 높은 연봉을 받아야할 것 같은데 상대적으로 적은 연봉 평균치를 보였다. \n"
   ]
  },
  {
   "cell_type": "markdown",
   "metadata": {},
   "source": [
    "### 가설 : 양손타자는 과거에 많이 존재했기 때문에, 물가가 상대적으로 낮은 시기에 연봉이 정해져 평균 연봉이 낮게 책정된다.\n",
    "혹시나 양손타자(스위치히터)들의 활동기간이 일러서, 낮은 물가 때문에 연봉 평균이 낮은가? 확인해보자"
   ]
  },
  {
   "cell_type": "code",
   "execution_count": 18,
   "metadata": {},
   "outputs": [
    {
     "name": "stdout",
     "output_type": "stream",
     "text": [
      "데이터 내 양타자가 처음으로 등장한 년도 : 2004\n",
      "데이터 내 양타자가 마지막으로 등장한 년도 : 2018\n"
     ]
    }
   ],
   "source": [
    "#(양타자들 연도 최솟값, 최댓값 파악 코드)\n",
    "hit_both = hit[['year','Right_hand']] # 원 데이터에서 필요한 데이터 열만 가져오기\n",
    "\n",
    "idx = hit[(hit['Right_hand'] == 0) | (hit['Right_hand'] == 1)].index #righthand == 0 or 1 인 행들의 인덱스 모으기\n",
    "\n",
    "\n",
    "hit_both = hit_both.drop(idx) #idx 인덱스의 행 떨구기\n",
    "\n",
    "\n",
    "\n",
    "print(\"데이터 내 양타자가 처음으로 등장한 년도 :\",hit_both['year'].min())\n",
    "print(\"데이터 내 양타자가 마지막으로 등장한 년도 :\",hit_both['year'].max())\n"
   ]
  },
  {
   "cell_type": "code",
   "execution_count": 19,
   "metadata": {},
   "outputs": [
    {
     "data": {
      "text/plain": [
       "<AxesSubplot:xlabel='Right_hand', ylabel='year'>"
      ]
     },
     "execution_count": 19,
     "metadata": {},
     "output_type": "execute_result"
    },
    {
     "data": {
      "image/png": "[encoded data removed]",
      "text/plain": [
       "<Figure size 432x288 with 1 Axes>"
      ]
     },
     "metadata": {
      "needs_background": "light"
     },
     "output_type": "display_data"
    }
   ],
   "source": [
    "# 양손타자들의 등장 년도 분포 확인\n",
    "plt.rc('font', size=15)\n",
    "sns.violinplot(y = hit_both['year'], x = hit_both['Right_hand'])"
   ]
  },
  {
   "cell_type": "markdown",
   "metadata": {},
   "source": [
    "아니였다. 양손타자들은 꾸준히, 그 중에서도 최근 5년 전 가장 많이 등장해 왔다. 이로서 과거의 낮은 물가로 인해 연봉이 낮게 책정되었다는 가설은 거짓으로 판명되었다."
   ]
  },
  {
   "cell_type": "markdown",
   "metadata": {},
   "source": [
    "## 좌타자, 우타자들의 1루타 횟수 비교(1B)\n",
    "좌타자는 우타자에 비해 1루에 1걸음~1걸음 반정도 가깝고, 스윙 궤적도 우타자와는 반대로 1루쪽으로 몸이 돌아가, 타격 시 1루 진루에 유리하다는 속설이 있다. 이를 검증해 보자. "
   ]
  },
  {
   "cell_type": "code",
   "execution_count": 20,
   "metadata": {
    "scrolled": true
   },
   "outputs": [
    {
     "data": {
      "text/plain": [
       "0    52.290530\n",
       "1    43.266122\n",
       "2    24.027027\n",
       "Name: 1B, dtype: float64"
      ]
     },
     "execution_count": 20,
     "metadata": {},
     "output_type": "execute_result"
    }
   ],
   "source": [
    "hit_1b = hit.groupby(['Right_hand'], as_index=False).mean() #좌타,우타 양타별 1루타 횟수 평균내기\n",
    "hit_1b['1B']"
   ]
  },
  {
   "cell_type": "code",
   "execution_count": 21,
   "metadata": {
    "scrolled": true
   },
   "outputs": [
    {
     "data": {
      "image/png": "[encoded data removed]",
      "text/plain": [
       "<Figure size 360x360 with 1 Axes>"
      ]
     },
     "metadata": {
      "needs_background": "light"
     },
     "output_type": "display_data"
    }
   ],
   "source": [
    "#시각화\n",
    "plt.figure(figsize = (5,5))\n",
    "plt.rc('font', size=12)\n",
    "sns.barplot(x = ['좌타','우타','양타'], y =  hit_1b[\"1B\"])\n",
    "plt.title('1루타 횟수 평균')\n",
    "plt.xlabel('Right_hand')\n",
    "plt.ylabel('Count')\n",
    "plt.show()"
   ]
  },
  {
   "cell_type": "markdown",
   "metadata": {},
   "source": [
    "좌타자의 경우 평균 1루타 횟수 52회, 우타자의 경우 평균 1루타 횟수 43회로 좌타자가 우타자에 비해 1루타 횟수가 훨씬 많은 것을 알 수 있었다. 이로서 좌타자가 우타자에 비해 1루 진출에 유리하다는 가설은 참이다."
   ]
  },
  {
   "cell_type": "markdown",
   "metadata": {},
   "source": [
    "## 좌타자는 도루에 유리한가?  (SB = 도루성공수)\n",
    "주자가 직접 베이스 진출에 성공한 횟수도 좌타자가 우타자에 비해 많을까?"
   ]
  },
  {
   "cell_type": "code",
   "execution_count": 22,
   "metadata": {},
   "outputs": [
    {
     "data": {
      "text/plain": [
       "0    8.410915\n",
       "1    4.518367\n",
       "2    3.216216\n",
       "Name: SB, dtype: float64"
      ]
     },
     "execution_count": 22,
     "metadata": {},
     "output_type": "execute_result"
    }
   ],
   "source": [
    "hit_sb = hit.groupby(['Right_hand'], as_index=False).mean() #좌타,우타 양타별 도루 성공수 평균내기\n",
    "hit_sb['SB']"
   ]
  },
  {
   "cell_type": "code",
   "execution_count": 23,
   "metadata": {},
   "outputs": [
    {
     "data": {
      "image/png": "[encoded data removed]",
      "text/plain": [
       "<Figure size 360x360 with 1 Axes>"
      ]
     },
     "metadata": {
      "needs_background": "light"
     },
     "output_type": "display_data"
    }
   ],
   "source": [
    "#시각화\n",
    "plt.figure(figsize = (5,5))\n",
    "plt.rc('font', size=12)\n",
    "sns.barplot(x = ['좌타','우타','양타'], y =  hit_sb[\"SB\"])\n",
    "plt.title('도루 성공 횟수 평균')\n",
    "plt.xlabel('Right_hand')\n",
    "plt.ylabel('Count')\n",
    "plt.show()\n",
    "\n"
   ]
  },
  {
   "cell_type": "markdown",
   "metadata": {},
   "source": [
    "보다시피, 도루 성공 횟수 지표인 SB는 좌타자가 우타자에 비해 2배 이상 높았다. (최대최소 편차 5.2회 정도)좌타자가 우타자보다 도루에 훨씬 유리하다는 것을 데이터에서 증명해 냈다."
   ]
  },
  {
   "cell_type": "markdown",
   "metadata": {},
   "source": [
    "### 도루 실패수 척도 CS도 확인해 보자"
   ]
  },
  {
   "cell_type": "code",
   "execution_count": 24,
   "metadata": {
    "scrolled": true
   },
   "outputs": [
    {
     "data": {
      "text/plain": [
       "0    3.407705\n",
       "1    2.208163\n",
       "2    2.027027\n",
       "Name: CS, dtype: float64"
      ]
     },
     "execution_count": 24,
     "metadata": {},
     "output_type": "execute_result"
    }
   ],
   "source": [
    "hit_cs = hit.groupby(['Right_hand'], as_index=False).mean()\n",
    "hit_cs['CS']"
   ]
  },
  {
   "cell_type": "code",
   "execution_count": 25,
   "metadata": {
    "scrolled": false
   },
   "outputs": [
    {
     "data": {
      "image/png": "[encoded data removed]",
      "text/plain": [
       "<Figure size 360x360 with 1 Axes>"
      ]
     },
     "metadata": {
      "needs_background": "light"
     },
     "output_type": "display_data"
    }
   ],
   "source": [
    "#시각화\n",
    "plt.figure(figsize = (5,5))\n",
    "plt.rc('font', size=12)\n",
    "sns.barplot(x = ['좌타','우타','양타'], y =  hit_cs[\"CS\"])\n",
    "plt.title('도루 실패 수')\n",
    "plt.xlabel('Right_hand')\n",
    "plt.ylabel('Count')\n",
    "plt.show()"
   ]
  },
  {
   "cell_type": "markdown",
   "metadata": {},
   "source": [
    "도루 실패수 평균 또한 좌타자가 가장 많고, 우타자, 양손타자 순으로 작아졌다. 다만 성공 수에 비해 편차가 그닥 크지 않았다.(최대최소 편차 1.4회 정도) "
   ]
  },
  {
   "cell_type": "markdown",
   "metadata": {},
   "source": [
    "### 도루  성공률 계산해보기\n",
    "\n",
    "선수별 도루 성공률 컬럼 추가 - 도루 성공률 공식 : 도루 성공횟수/(도루 성공횟수 + 도루 실패횟수)"
   ]
  },
  {
   "cell_type": "code",
   "execution_count": 26,
   "metadata": {
    "scrolled": true
   },
   "outputs": [
    {
     "name": "stderr",
     "output_type": "stream",
     "text": [
      "/tmp/ipykernel_149/2185328068.py:6: SettingWithCopyWarning: \n",
      "A value is trying to be set on a copy of a slice from a DataFrame.\n",
      "Try using .loc[row_indexer,col_indexer] = value instead\n",
      "\n",
      "See the caveats in the documentation: https://pandas.pydata.org/pandas-docs/stable/user_guide/indexing.html#returning-a-view-versus-a-copy\n",
      "  hit_sbr['SB%'] = hit_sbr['SB']/(hit_sbr['SB'] + hit_sbr['CS'])\n"
     ]
    },
    {
     "data": {
      "text/html": [
       "<div>\n",
       "<style scoped>\n",
       "    .dataframe tbody tr th:only-of-type {\n",
       "        vertical-align: middle;\n",
       "    }\n",
       "\n",
       "    .dataframe tbody tr th {\n",
       "        vertical-align: top;\n",
       "    }\n",
       "\n",
       "    .dataframe thead th {\n",
       "        text-align: right;\n",
       "    }\n",
       "</style>\n",
       "<table border=\"1\" class=\"dataframe\">\n",
       "  <thead>\n",
       "    <tr style=\"text-align: right;\">\n",
       "      <th></th>\n",
       "      <th>Right_hand</th>\n",
       "      <th>SB</th>\n",
       "      <th>CS</th>\n",
       "      <th>SB%</th>\n",
       "    </tr>\n",
       "  </thead>\n",
       "  <tbody>\n",
       "    <tr>\n",
       "      <th>0</th>\n",
       "      <td>1</td>\n",
       "      <td>0.0</td>\n",
       "      <td>0.0</td>\n",
       "      <td>NaN</td>\n",
       "    </tr>\n",
       "    <tr>\n",
       "      <th>1</th>\n",
       "      <td>1</td>\n",
       "      <td>0.0</td>\n",
       "      <td>0.0</td>\n",
       "      <td>NaN</td>\n",
       "    </tr>\n",
       "    <tr>\n",
       "      <th>2</th>\n",
       "      <td>1</td>\n",
       "      <td>3.0</td>\n",
       "      <td>1.0</td>\n",
       "      <td>0.750000</td>\n",
       "    </tr>\n",
       "    <tr>\n",
       "      <th>3</th>\n",
       "      <td>1</td>\n",
       "      <td>2.0</td>\n",
       "      <td>1.0</td>\n",
       "      <td>0.666667</td>\n",
       "    </tr>\n",
       "    <tr>\n",
       "      <th>4</th>\n",
       "      <td>1</td>\n",
       "      <td>0.0</td>\n",
       "      <td>0.0</td>\n",
       "      <td>NaN</td>\n",
       "    </tr>\n",
       "    <tr>\n",
       "      <th>...</th>\n",
       "      <td>...</td>\n",
       "      <td>...</td>\n",
       "      <td>...</td>\n",
       "      <td>...</td>\n",
       "    </tr>\n",
       "    <tr>\n",
       "      <th>1908</th>\n",
       "      <td>1</td>\n",
       "      <td>2.0</td>\n",
       "      <td>1.0</td>\n",
       "      <td>0.666667</td>\n",
       "    </tr>\n",
       "    <tr>\n",
       "      <th>1909</th>\n",
       "      <td>0</td>\n",
       "      <td>11.0</td>\n",
       "      <td>2.0</td>\n",
       "      <td>0.846154</td>\n",
       "    </tr>\n",
       "    <tr>\n",
       "      <th>1910</th>\n",
       "      <td>0</td>\n",
       "      <td>0.0</td>\n",
       "      <td>1.0</td>\n",
       "      <td>0.000000</td>\n",
       "    </tr>\n",
       "    <tr>\n",
       "      <th>1911</th>\n",
       "      <td>1</td>\n",
       "      <td>8.0</td>\n",
       "      <td>2.0</td>\n",
       "      <td>0.800000</td>\n",
       "    </tr>\n",
       "    <tr>\n",
       "      <th>1912</th>\n",
       "      <td>1</td>\n",
       "      <td>18.0</td>\n",
       "      <td>9.0</td>\n",
       "      <td>0.666667</td>\n",
       "    </tr>\n",
       "  </tbody>\n",
       "</table>\n",
       "<p>1885 rows × 4 columns</p>\n",
       "</div>"
      ],
      "text/plain": [
       "      Right_hand    SB   CS       SB%\n",
       "0              1   0.0  0.0       NaN\n",
       "1              1   0.0  0.0       NaN\n",
       "2              1   3.0  1.0  0.750000\n",
       "3              1   2.0  1.0  0.666667\n",
       "4              1   0.0  0.0       NaN\n",
       "...          ...   ...  ...       ...\n",
       "1908           1   2.0  1.0  0.666667\n",
       "1909           0  11.0  2.0  0.846154\n",
       "1910           0   0.0  1.0  0.000000\n",
       "1911           1   8.0  2.0  0.800000\n",
       "1912           1  18.0  9.0  0.666667\n",
       "\n",
       "[1885 rows x 4 columns]"
      ]
     },
     "execution_count": 26,
     "metadata": {},
     "output_type": "execute_result"
    }
   ],
   "source": [
    "# 원 데이터에서 필요한 컬럼만 가져오기\n",
    "hit_sbr = hit[['Right_hand','SB', 'CS']]\n",
    "\n",
    "#도루 성공률 컬럼 SB%추가\n",
    "\n",
    "hit_sbr['SB%'] = hit_sbr['SB']/(hit_sbr['SB'] + hit_sbr['CS'])\n",
    "hit_sbr"
   ]
  },
  {
   "cell_type": "markdown",
   "metadata": {},
   "source": [
    "#### NaN값 처리하기\n",
    "NaN은 주로 도루 성공횟수, 실패횟수 모두 0인 선수들 즉 시즌간 도루를 단 한번도 시도해 보지 않은 선수들을 의미한다. 처리를 어떻게 해야할까?\n",
    "\n",
    "일단 NaN값이 얼마나 있는지 확인해 보자"
   ]
  },
  {
   "cell_type": "code",
   "execution_count": 27,
   "metadata": {
    "scrolled": true
   },
   "outputs": [
    {
     "data": {
      "text/plain": [
       "Right_hand      0\n",
       "SB              0\n",
       "CS              0\n",
       "SB%           400\n",
       "dtype: int64"
      ]
     },
     "execution_count": 27,
     "metadata": {},
     "output_type": "execute_result"
    }
   ],
   "source": [
    "hit_sbr.isnull().sum()"
   ]
  },
  {
   "cell_type": "markdown",
   "metadata": {},
   "source": [
    "400명 정도의 선수가 도루를 시도하지 않았다. 일단 해당 선수들은 평균 계산에서 빼도록 하자.(더 좋은 방법 있을까? 0으로 두는 방법은 별로인가?)"
   ]
  },
  {
   "cell_type": "code",
   "execution_count": 28,
   "metadata": {
    "scrolled": true
   },
   "outputs": [
    {
     "data": {
      "text/plain": [
       "Right_hand    0\n",
       "SB            0\n",
       "CS            0\n",
       "SB%           0\n",
       "dtype: int64"
      ]
     },
     "execution_count": 28,
     "metadata": {},
     "output_type": "execute_result"
    }
   ],
   "source": [
    "#nan값 제거\n",
    "hit_sbr = hit_sbr.dropna()\n",
    "hit_sbr.isnull().sum()"
   ]
  },
  {
   "cell_type": "code",
   "execution_count": 29,
   "metadata": {
    "scrolled": true
   },
   "outputs": [
    {
     "data": {
      "text/html": [
       "<div>\n",
       "<style scoped>\n",
       "    .dataframe tbody tr th:only-of-type {\n",
       "        vertical-align: middle;\n",
       "    }\n",
       "\n",
       "    .dataframe tbody tr th {\n",
       "        vertical-align: top;\n",
       "    }\n",
       "\n",
       "    .dataframe thead th {\n",
       "        text-align: right;\n",
       "    }\n",
       "</style>\n",
       "<table border=\"1\" class=\"dataframe\">\n",
       "  <thead>\n",
       "    <tr style=\"text-align: right;\">\n",
       "      <th></th>\n",
       "      <th>Right_hand</th>\n",
       "      <th>SB</th>\n",
       "      <th>CS</th>\n",
       "      <th>SB%</th>\n",
       "    </tr>\n",
       "  </thead>\n",
       "  <tbody>\n",
       "    <tr>\n",
       "      <th>2</th>\n",
       "      <td>1</td>\n",
       "      <td>3.0</td>\n",
       "      <td>1.0</td>\n",
       "      <td>0.750000</td>\n",
       "    </tr>\n",
       "    <tr>\n",
       "      <th>3</th>\n",
       "      <td>1</td>\n",
       "      <td>2.0</td>\n",
       "      <td>1.0</td>\n",
       "      <td>0.666667</td>\n",
       "    </tr>\n",
       "    <tr>\n",
       "      <th>5</th>\n",
       "      <td>1</td>\n",
       "      <td>0.0</td>\n",
       "      <td>1.0</td>\n",
       "      <td>0.000000</td>\n",
       "    </tr>\n",
       "    <tr>\n",
       "      <th>8</th>\n",
       "      <td>0</td>\n",
       "      <td>1.0</td>\n",
       "      <td>1.0</td>\n",
       "      <td>0.500000</td>\n",
       "    </tr>\n",
       "    <tr>\n",
       "      <th>9</th>\n",
       "      <td>0</td>\n",
       "      <td>3.0</td>\n",
       "      <td>3.0</td>\n",
       "      <td>0.500000</td>\n",
       "    </tr>\n",
       "    <tr>\n",
       "      <th>...</th>\n",
       "      <td>...</td>\n",
       "      <td>...</td>\n",
       "      <td>...</td>\n",
       "      <td>...</td>\n",
       "    </tr>\n",
       "    <tr>\n",
       "      <th>1908</th>\n",
       "      <td>1</td>\n",
       "      <td>2.0</td>\n",
       "      <td>1.0</td>\n",
       "      <td>0.666667</td>\n",
       "    </tr>\n",
       "    <tr>\n",
       "      <th>1909</th>\n",
       "      <td>0</td>\n",
       "      <td>11.0</td>\n",
       "      <td>2.0</td>\n",
       "      <td>0.846154</td>\n",
       "    </tr>\n",
       "    <tr>\n",
       "      <th>1910</th>\n",
       "      <td>0</td>\n",
       "      <td>0.0</td>\n",
       "      <td>1.0</td>\n",
       "      <td>0.000000</td>\n",
       "    </tr>\n",
       "    <tr>\n",
       "      <th>1911</th>\n",
       "      <td>1</td>\n",
       "      <td>8.0</td>\n",
       "      <td>2.0</td>\n",
       "      <td>0.800000</td>\n",
       "    </tr>\n",
       "    <tr>\n",
       "      <th>1912</th>\n",
       "      <td>1</td>\n",
       "      <td>18.0</td>\n",
       "      <td>9.0</td>\n",
       "      <td>0.666667</td>\n",
       "    </tr>\n",
       "  </tbody>\n",
       "</table>\n",
       "<p>1485 rows × 4 columns</p>\n",
       "</div>"
      ],
      "text/plain": [
       "      Right_hand    SB   CS       SB%\n",
       "2              1   3.0  1.0  0.750000\n",
       "3              1   2.0  1.0  0.666667\n",
       "5              1   0.0  1.0  0.000000\n",
       "8              0   1.0  1.0  0.500000\n",
       "9              0   3.0  3.0  0.500000\n",
       "...          ...   ...  ...       ...\n",
       "1908           1   2.0  1.0  0.666667\n",
       "1909           0  11.0  2.0  0.846154\n",
       "1910           0   0.0  1.0  0.000000\n",
       "1911           1   8.0  2.0  0.800000\n",
       "1912           1  18.0  9.0  0.666667\n",
       "\n",
       "[1485 rows x 4 columns]"
      ]
     },
     "execution_count": 29,
     "metadata": {},
     "output_type": "execute_result"
    }
   ],
   "source": [
    "hit_sbr"
   ]
  },
  {
   "cell_type": "code",
   "execution_count": 30,
   "metadata": {},
   "outputs": [
    {
     "data": {
      "text/html": [
       "<div>\n",
       "<style scoped>\n",
       "    .dataframe tbody tr th:only-of-type {\n",
       "        vertical-align: middle;\n",
       "    }\n",
       "\n",
       "    .dataframe tbody tr th {\n",
       "        vertical-align: top;\n",
       "    }\n",
       "\n",
       "    .dataframe thead th {\n",
       "        text-align: right;\n",
       "    }\n",
       "</style>\n",
       "<table border=\"1\" class=\"dataframe\">\n",
       "  <thead>\n",
       "    <tr style=\"text-align: right;\">\n",
       "      <th></th>\n",
       "      <th>Right_hand</th>\n",
       "      <th>SB</th>\n",
       "      <th>CS</th>\n",
       "      <th>SB%</th>\n",
       "    </tr>\n",
       "  </thead>\n",
       "  <tbody>\n",
       "    <tr>\n",
       "      <th>0</th>\n",
       "      <td>0</td>\n",
       "      <td>9.980952</td>\n",
       "      <td>4.043810</td>\n",
       "      <td>0.631311</td>\n",
       "    </tr>\n",
       "    <tr>\n",
       "      <th>1</th>\n",
       "      <td>1</td>\n",
       "      <td>5.919786</td>\n",
       "      <td>2.893048</td>\n",
       "      <td>0.615246</td>\n",
       "    </tr>\n",
       "    <tr>\n",
       "      <th>2</th>\n",
       "      <td>2</td>\n",
       "      <td>4.760000</td>\n",
       "      <td>3.000000</td>\n",
       "      <td>0.629383</td>\n",
       "    </tr>\n",
       "  </tbody>\n",
       "</table>\n",
       "</div>"
      ],
      "text/plain": [
       "   Right_hand        SB        CS       SB%\n",
       "0           0  9.980952  4.043810  0.631311\n",
       "1           1  5.919786  2.893048  0.615246\n",
       "2           2  4.760000  3.000000  0.629383"
      ]
     },
     "execution_count": 30,
     "metadata": {},
     "output_type": "execute_result"
    }
   ],
   "source": [
    "# Right hand로 그룹핑하고, 내부에서 평균 내자\n",
    "hit_sbr = hit_sbr.groupby(['Right_hand'], as_index=False).mean()\n",
    "# hit_sbr['SB%']\n",
    "hit_sbr"
   ]
  },
  {
   "cell_type": "code",
   "execution_count": 31,
   "metadata": {},
   "outputs": [
    {
     "data": {
      "image/png": "[encoded data removed]",
      "text/plain": [
       "<Figure size 360x360 with 1 Axes>"
      ]
     },
     "metadata": {
      "needs_background": "light"
     },
     "output_type": "display_data"
    }
   ],
   "source": [
    "#시각화\n",
    "plt.figure(figsize = (5,5))\n",
    "plt.rc('font', size=12)\n",
    "sns.barplot(x = ['좌타','우타','양타'], y =  hit_sbr[\"SB%\"])\n",
    "plt.title('도루 성공률')\n",
    "plt.xlabel('Right_hand')\n",
    "plt.ylabel('%')\n",
    "plt.show()"
   ]
  },
  {
   "cell_type": "markdown",
   "metadata": {},
   "source": [
    "Nan값 선수들을 제거해서, 기존에 파악했던 SB,CS 평균치와 약간의 차이가 발생했다.\n",
    "\n",
    "SB% 결과를 살펴보면, 좌타자가 도루 성공률 63%로 가장 높았고, 우타자가 61%로 가장 낮았다. 큰 차이는 없는 것으로 파악된다."
   ]
  },
  {
   "cell_type": "markdown",
   "metadata": {},
   "source": [
    "### 좌타자, 우타자의 OBP (출루율) 확인\n",
    "타격을 통한 출루 + 도루 + 볼넷 + 몸에 맞는 공 등 모든 출루를 총 망라하는 지표이다. 이또한 좌타자가 더 유리할까?"
   ]
  },
  {
   "cell_type": "code",
   "execution_count": 32,
   "metadata": {
    "scrolled": true
   },
   "outputs": [
    {
     "data": {
      "text/plain": [
       "0    0.329380\n",
       "1    0.313130\n",
       "2    0.266351\n",
       "Name: OBP, dtype: float64"
      ]
     },
     "execution_count": 32,
     "metadata": {},
     "output_type": "execute_result"
    }
   ],
   "source": [
    "hit_obp = hit.groupby(['Right_hand'], as_index=False).mean()\n",
    "hit_obp['OBP']"
   ]
  },
  {
   "cell_type": "code",
   "execution_count": 33,
   "metadata": {},
   "outputs": [
    {
     "data": {
      "image/png": "[encoded data removed]",
      "text/plain": [
       "<Figure size 360x360 with 1 Axes>"
      ]
     },
     "metadata": {
      "needs_background": "light"
     },
     "output_type": "display_data"
    }
   ],
   "source": [
    "#시각화\n",
    "plt.figure(figsize = (5,5))\n",
    "plt.rc('font', size=12)\n",
    "sns.barplot(x = [0,1,2], y =  hit_obp[\"OBP\"])\n",
    "plt.title(\"출루율(OBP)\")\n",
    "plt.xlabel('Right_hand')\n",
    "plt.ylabel('Count')\n",
    "plt.show()"
   ]
  },
  {
   "cell_type": "markdown",
   "metadata": {},
   "source": [
    "좌타자들의 평균 출루율이 가장 높긴 했지만, 도루 지표보다는 크게 차이가 나지 않았다. 타격점수, 볼넷 등의 지표로 인해 보정이 된 듯 하다."
   ]
  },
  {
   "cell_type": "markdown",
   "metadata": {},
   "source": [
    "### 좌타자, 우타자의 HBP (몸에 맞은 공 = 데드볼 횟수) 확인\n",
    "좌타자, 우타자 중 누가 더 공에 많이 맞을까?"
   ]
  },
  {
   "cell_type": "code",
   "execution_count": 34,
   "metadata": {},
   "outputs": [
    {
     "data": {
      "text/plain": [
       "0    3.224719\n",
       "1    4.050612\n",
       "2    4.324324\n",
       "Name: HBP, dtype: float64"
      ]
     },
     "execution_count": 34,
     "metadata": {},
     "output_type": "execute_result"
    }
   ],
   "source": [
    "hit_hbp = hit.groupby(['Right_hand'], as_index=False).mean()\n",
    "hit_hbp['HBP']"
   ]
  },
  {
   "cell_type": "code",
   "execution_count": 35,
   "metadata": {
    "scrolled": true
   },
   "outputs": [
    {
     "data": {
      "image/png": "[encoded data removed]",
      "text/plain": [
       "<Figure size 360x360 with 1 Axes>"
      ]
     },
     "metadata": {
      "needs_background": "light"
     },
     "output_type": "display_data"
    }
   ],
   "source": [
    "#시각화\n",
    "plt.figure(figsize = (5,5))\n",
    "plt.rc('font', size=12)\n",
    "sns.barplot(x = [0,1,2], y =  hit_obp[\"HBP\"])\n",
    "plt.title(\"데드볼(HBP)\")\n",
    "plt.xlabel('Right_hand')\n",
    "plt.ylabel('Count')\n",
    "plt.show()"
   ]
  },
  {
   "cell_type": "markdown",
   "metadata": {},
   "source": [
    "양손타자, 우타자가 평균적으로 데드볼을 가장 많이 맞았다. 좌타자는 비교적 데드볼 횟수가 적었다. 우투 투수들이 많아 공이 오른쪽으로 쏠리는 경향이 많고, 따라서 오른쪽 타석에 서야하는 우타자들이 공을 더 많이 맞는게 아닌가, 추측했다."
   ]
  }
 ],
 "metadata": {
  "kernelspec": {
   "display_name": "Python 3 (ipykernel)",
   "language": "python",
   "name": "python3"
  },
  "language_info": {
   "codemirror_mode": {
    "name": "ipython",
    "version": 3
   },
   "file_extension": ".py",
   "mimetype": "text/x-python",
   "name": "python",
   "nbconvert_exporter": "python",
   "pygments_lexer": "ipython3",
   "version": "3.9.7"
  }
 },
 "nbformat": 4,
 "nbformat_minor": 4
}
